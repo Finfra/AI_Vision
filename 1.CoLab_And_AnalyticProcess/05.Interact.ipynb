{
 "cells": [
  {
   "cell_type": "markdown",
   "metadata": {
    "id": "GlTp41WqIf1p"
   },
   "source": [
    "# Interact\n",
    "\n",
    "colab 에서 활용 가능한 interact 에 대해 알아본다.\n",
    "* https://ipywidgets.readthedocs.io/en/latest/examples/Using%20Interact.html\n",
    "* https://colab.research.google.com/github/jupyter-widgets/ipywidgets/blob/master/docs/source/examples/Using%20Interact.ipynb"
   ]
  },
  {
   "cell_type": "markdown",
   "metadata": {
    "id": "zJ3GjcSEIw-6"
   },
   "source": [
    "## String and Slider\n",
    "슬라이딩 바를 통해 변수 값을 조정하는 것이 가능하다."
   ]
  },
  {
   "cell_type": "code",
   "execution_count": 1,
   "metadata": {
    "executionInfo": {
     "elapsed": 316,
     "status": "ok",
     "timestamp": 1628214737111,
     "user": {
      "displayName": "김성국",
      "photoUrl": "",
      "userId": "14454204284131910272"
     },
     "user_tz": -540
    },
    "id": "Xtk2uL0RuDEn"
   },
   "outputs": [],
   "source": [
    "s = 'example'  #@param {type: \"string\"}\n",
    "a = -4  #@param {type: \"slider\", min: -10, max: 10}\n",
    "b= 96  #@param {type: \"slider\", min: 0, max: 100}\n",
    "\n"
   ]
  },
  {
   "cell_type": "markdown",
   "metadata": {
    "id": "iFoy9IWDJi9X"
   },
   "source": [
    "위의 값을 바꾼 뒤에 해당 그래프를 출력해보면 값이 바뀌는 것을 확인할 수 있다.<br>\n",
    "(값을 바꾼 뒤 위 코드를 한번 실행을 해서 변경값을 적용해줘야 한다.)"
   ]
  },
  {
   "cell_type": "code",
   "execution_count": 2,
   "metadata": {
    "colab": {
     "base_uri": "https://localhost:8080/",
     "height": 299
    },
    "executionInfo": {
     "elapsed": 720,
     "status": "ok",
     "timestamp": 1628214738150,
     "user": {
      "displayName": "김성국",
      "photoUrl": "",
      "userId": "14454204284131910272"
     },
     "user_tz": -540
    },
    "id": "NFBKfXqbu8an",
    "outputId": "e9ed1a26-7017-4013-a584-0f9e75ac73dd"
   },
   "outputs": [
    {
     "data": {
      "text/plain": [
       "[<matplotlib.lines.Line2D at 0x7fd5fe443310>]"
      ]
     },
     "execution_count": 2,
     "metadata": {
      "tags": []
     },
     "output_type": "execute_result"
    },
    {
     "data": {
      "image/png": "[encoded data removed]",
      "text/plain": [
       "<Figure size 432x288 with 1 Axes>"
      ]
     },
     "metadata": {
      "needs_background": "light",
      "tags": []
     },
     "output_type": "display_data"
    }
   ],
   "source": [
    "import matplotlib.pyplot as plt\n",
    "plt.title(s)\n",
    "ns=range(10)\n",
    "plt.plot(ns,[i*a+b for i in ns])"
   ]
  },
  {
   "cell_type": "markdown",
   "metadata": {
    "id": "v1p_q9cqJMHh"
   },
   "source": [
    "## Markdown 을 활용한 Form\n",
    "Markdown 의 형식을 빌려서 폼 형태를 만드는 것도 가능하다."
   ]
  },
  {
   "cell_type": "code",
   "execution_count": 1,
   "metadata": {
    "executionInfo": {
     "elapsed": 19,
     "status": "ok",
     "timestamp": 1628214738154,
     "user": {
      "displayName": "김성국",
      "photoUrl": "",
      "userId": "14454204284131910272"
     },
     "user_tz": -540
    },
    "id": "XtdpyIq2tn-h"
   },
   "outputs": [],
   "source": [
    "#@title Example form fields\n",
    "#@markdown Forms support many types of fields.\n",
    "\n",
    "no_type_checking = ''  #@param\n",
    "string_type = 'example'  #@param {type: \"string\"}\n",
    "slider_value = 142  #@param {type: \"slider\", min: 100, max: 200}\n",
    "number = 102  #@param {type: \"number\"}\n",
    "date = '2010-11-05'  #@param {type: \"date\"}\n",
    "pick_me = \"monday\"  #@param ['monday', 'tuesday', 'wednesday', 'thursday']\n",
    "select_or_input = \"apples\" #@param [\"apples\", \"bananas\", \"oranges\"] {allow-input: true}\n",
    "#@markdown ---\n"
   ]
  },
  {
   "cell_type": "markdown",
   "metadata": {},
   "source": [
    "# interact 기초"
   ]
  },
  {
   "cell_type": "code",
   "execution_count": 3,
   "metadata": {},
   "outputs": [
    {
     "data": {
      "application/vnd.jupyter.widget-view+json": {
       "model_id": "1994e0b54e21411795bc41b694339cc8",
       "version_major": 2,
       "version_minor": 0
      },
      "text/plain": [
       "interactive(children=(IntSlider(value=10, description='x', max=30, min=-10), Output()), _dom_classes=('widget-…"
      ]
     },
     "metadata": {},
     "output_type": "display_data"
    }
   ],
   "source": [
    "from __future__ import print_function\n",
    "from ipywidgets import interact, interactive, fixed, interact_manual\n",
    "import ipywidgets as widgets\n",
    "\n",
    "\n",
    "def f(x):\n",
    "    return x\n",
    "interact(f, x=10);"
   ]
  },
  {
   "cell_type": "markdown",
   "metadata": {},
   "source": [
    "# interact 그래프"
   ]
  },
  {
   "cell_type": "code",
   "execution_count": null,
   "metadata": {},
   "outputs": [],
   "source": [
    "%matplotlib inline\n",
    "from ipywidgets import interactive\n",
    "import matplotlib.pyplot as plt\n",
    "import numpy as np\n",
    "\n",
    "def f(m, b):\n",
    "    plt.figure(2)\n",
    "    x = np.linspace(-10, 10, num=1000)\n",
    "    plt.plot(x, m * x + b)\n",
    "    plt.ylim(-5, 5)\n",
    "    plt.show()\n",
    "\n",
    "interactive_plot = interactive(f, m=(-2.0, 2.0), b=(-3, 3, 0.5))\n",
    "output = interactive_plot.children[-1]\n",
    "output.layout.height = '350px'\n",
    "interactive_plot"
   ]
  }
 ],
 "metadata": {
  "colab": {
   "collapsed_sections": [],
   "name": "Interact.ipynb",
   "provenance": [],
   "toc_visible": true
  },
  "kernelspec": {
   "display_name": "Python 3",
   "language": "python",
   "name": "python3"
  },
  "language_info": {
   "codemirror_mode": {
    "name": "ipython",
    "version": 3
   },
   "file_extension": ".py",
   "mimetype": "text/x-python",
   "name": "python",
   "nbconvert_exporter": "python",
   "pygments_lexer": "ipython3",
   "version": "3.8.9"
  }
 },
 "nbformat": 4,
 "nbformat_minor": 4
}
