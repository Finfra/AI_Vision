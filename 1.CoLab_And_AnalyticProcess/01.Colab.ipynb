{
 "cells": [
  {
   "cell_type": "markdown",
   "metadata": {
    "id": "sQXkOvxelXCr"
   },
   "source": [
    "# Version 확인\n",
    "tensorflow의 버전에 따라서 라이브러리가 지원되기도 하고 안되기도 하는 경우가 있기 때문에 확인해주면 좋다."
   ]
  },
  {
   "cell_type": "code",
   "execution_count": null,
   "metadata": {
    "colab": {
     "base_uri": "https://localhost:8080/",
     "height": 35
    },
    "executionInfo": {
     "elapsed": 57,
     "status": "ok",
     "timestamp": 1628128197950,
     "user": {
      "displayName": "시니어",
      "photoUrl": "",
      "userId": "08171692844966868129"
     },
     "user_tz": -540
    },
    "id": "Vk9u7tv2jflu",
    "outputId": "73640240-6a0d-43ed-e779-62981f61a9a4"
   },
   "outputs": [
    {
     "data": {
      "application/vnd.google.colaboratory.intrinsic+json": {
       "type": "string"
      },
      "text/plain": [
       "'3.7.11 (default, Jul  3 2021, 18:01:19) \\n[GCC 7.5.0]'"
      ]
     },
     "execution_count": 2,
     "metadata": {
      "tags": []
     },
     "output_type": "execute_result"
    }
   ],
   "source": [
    "import sys\n",
    "sys.version"
   ]
  },
  {
   "cell_type": "code",
   "execution_count": null,
   "metadata": {
    "colab": {
     "base_uri": "https://localhost:8080/",
     "height": 35
    },
    "executionInfo": {
     "elapsed": 1508,
     "status": "ok",
     "timestamp": 1628128199414,
     "user": {
      "displayName": "시니어",
      "photoUrl": "",
      "userId": "08171692844966868129"
     },
     "user_tz": -540
    },
    "id": "VuNXr34kk3F2",
    "outputId": "a3d57139-feec-496a-c5b6-78c917909973"
   },
   "outputs": [
    {
     "data": {
      "application/vnd.google.colaboratory.intrinsic+json": {
       "type": "string"
      },
      "text/plain": [
       "'2.5.0'"
      ]
     },
     "execution_count": 3,
     "metadata": {
      "tags": []
     },
     "output_type": "execute_result"
    }
   ],
   "source": [
    "import tensorflow as tf\n",
    "tf.__version__"
   ]
  },
  {
   "cell_type": "markdown",
   "metadata": {
    "id": "CezMjUNYmz6N"
   },
   "source": [
    "# Magic command"
   ]
  },
  {
   "cell_type": "markdown",
   "metadata": {
    "id": "Wq08SzduFfCq"
   },
   "source": [
    "## bash 쉘을 활용\n",
    "* Advanced는 [03.CoLab_Advanced.ipynb](./03.CoLab_Advanced.ipynb) 참고"
   ]
  },
  {
   "cell_type": "markdown",
   "metadata": {
    "id": "cxeHyY1PAOb8"
   },
   "source": [
    "### !명령어\n",
    "! 를 활용해서 bash 명령어들을 활용할 수 있습니다."
   ]
  },
  {
   "cell_type": "code",
   "execution_count": null,
   "metadata": {
    "colab": {
     "base_uri": "https://localhost:8080/"
    },
    "executionInfo": {
     "elapsed": 389,
     "status": "ok",
     "timestamp": 1628146751978,
     "user": {
      "displayName": "시니어",
      "photoUrl": "",
      "userId": "08171692844966868129"
     },
     "user_tz": -540
    },
    "id": "kP7lcpPVANs0",
    "outputId": "638e3cfd-763a-455c-b5e9-259ebde57583"
   },
   "outputs": [
    {
     "name": "stdout",
     "output_type": "stream",
     "text": [
      "현재 폴더의 내용을 확인\n",
      "sample_data  xx\n",
      "현재 위치 확인\n",
      "/content\n",
      "현재 접속자 확인\n",
      "root\n"
     ]
    }
   ],
   "source": [
    "print(\"현재 폴더의 내용을 확인\")\n",
    "!ls\n",
    "print(\"현재 위치 확인\")\n",
    "!pwd\n",
    "print(\"현재 접속자 확인\")\n",
    "!whoami"
   ]
  },
  {
   "cell_type": "code",
   "execution_count": null,
   "metadata": {
    "colab": {
     "base_uri": "https://localhost:8080/"
    },
    "executionInfo": {
     "elapsed": 34,
     "status": "ok",
     "timestamp": 1628128199418,
     "user": {
      "displayName": "시니어",
      "photoUrl": "",
      "userId": "08171692844966868129"
     },
     "user_tz": -540
    },
    "id": "3Jx6bOdCmx5O",
    "outputId": "3e3e6f49-bb72-4d3c-d68c-2385efac2d15"
   },
   "outputs": [
    {
     "name": "stdout",
     "output_type": "stream",
     "text": [
      "AI_CNN_RNN  sample_data\n",
      "/content\n"
     ]
    }
   ],
   "source": [
    "!ls\n",
    "!pwd\n"
   ]
  },
  {
   "cell_type": "code",
   "execution_count": null,
   "metadata": {
    "colab": {
     "base_uri": "https://localhost:8080/"
    },
    "executionInfo": {
     "elapsed": 568,
     "status": "ok",
     "timestamp": 1628128199974,
     "user": {
      "displayName": "시니어",
      "photoUrl": "",
      "userId": "08171692844966868129"
     },
     "user_tz": -540
    },
    "id": "0smEfwq2qiAo",
    "outputId": "03f02c0e-df7d-4301-f782-948507f713de"
   },
   "outputs": [
    {
     "name": "stdout",
     "output_type": "stream",
     "text": [
      "/content\n"
     ]
    }
   ],
   "source": [
    "!cd\n",
    "!pwd"
   ]
  },
  {
   "cell_type": "markdown",
   "metadata": {
    "id": "fqKTrXsP-8wU"
   },
   "source": [
    "### % Magic\n"
   ]
  },
  {
   "cell_type": "markdown",
   "metadata": {
    "id": "xd58-JfE-enH"
   },
   "source": [
    "% 를 붙여 사용하면 해당내용이 반영된다. (cd 로 폴더를 옮길 때 유용)"
   ]
  },
  {
   "cell_type": "code",
   "execution_count": null,
   "metadata": {
    "colab": {
     "base_uri": "https://localhost:8080/"
    },
    "executionInfo": {
     "elapsed": 30,
     "status": "ok",
     "timestamp": 1628128199974,
     "user": {
      "displayName": "시니어",
      "photoUrl": "",
      "userId": "08171692844966868129"
     },
     "user_tz": -540
    },
    "id": "MQrGp_rJqlwL",
    "outputId": "533bf04c-df75-4701-ac64-0e5cc3c9e8f6"
   },
   "outputs": [
    {
     "name": "stdout",
     "output_type": "stream",
     "text": [
      "/\n",
      "/\n"
     ]
    }
   ],
   "source": [
    "%cd /\n",
    "!pwd\n"
   ]
  },
  {
   "cell_type": "markdown",
   "metadata": {
    "id": "WXnQhZ56FRWL"
   },
   "source": [
    "% 를 활용하면 설정한 내용이 유지됩니다."
   ]
  },
  {
   "cell_type": "code",
   "execution_count": null,
   "metadata": {
    "colab": {
     "base_uri": "https://localhost:8080/"
    },
    "executionInfo": {
     "elapsed": 937,
     "status": "ok",
     "timestamp": 1628146752902,
     "user": {
      "displayName": "시니어",
      "photoUrl": "",
      "userId": "08171692844966868129"
     },
     "user_tz": -540
    },
    "id": "WE6FE1vWxPp5",
    "outputId": "55e703d5-b3f4-4d05-9f86-ad34743dee4e"
   },
   "outputs": [
    {
     "name": "stdout",
     "output_type": "stream",
     "text": [
      "xx 폴더 만들기\n",
      "mkdir: cannot create directory ‘xx’: File exists\n",
      "==>현재 위치 확인<==\n",
      "/content\n",
      "!cd 명령어로 xx 폴더로 이동\n",
      "==>현재 위치 확인<==\n",
      "/content\n",
      "%cd 명령어로 xx 폴더로 이동\n",
      "/content/xx\n",
      "현재 위치 확인\n",
      "/content/xx\n"
     ]
    }
   ],
   "source": [
    "print(\"xx 폴더 만들기\")\n",
    "!mkdir xx\n",
    "print(\"==>현재 위치 확인<==\")\n",
    "!pwd\n",
    "print(\"!cd 명령어로 xx 폴더로 이동\")\n",
    "!cd xx\n",
    "print(\"==>현재 위치 확인<==\")\n",
    "!pwd\n",
    "print(\"%cd 명령어로 xx 폴더로 이동\")\n",
    "%cd xx\n",
    "print(\"현재 위치 확인\")\n",
    "!pwd"
   ]
  },
  {
   "cell_type": "markdown",
   "metadata": {
    "id": "Hd3ijvz4_Njs"
   },
   "source": [
    "환경변수 설정도 가능합니다."
   ]
  },
  {
   "cell_type": "code",
   "execution_count": null,
   "metadata": {
    "colab": {
     "base_uri": "https://localhost:8080/",
     "height": 53
    },
    "executionInfo": {
     "elapsed": 30,
     "status": "ok",
     "timestamp": 1628146752905,
     "user": {
      "displayName": "시니어",
      "photoUrl": "",
      "userId": "08171692844966868129"
     },
     "user_tz": -540
    },
    "id": "Q_oyLH8GyldH",
    "outputId": "b1012a70-e038-4786-cd89-fc736d70653f"
   },
   "outputs": [
    {
     "name": "stdout",
     "output_type": "stream",
     "text": [
      "env: x=33\n"
     ]
    },
    {
     "data": {
      "application/vnd.google.colaboratory.intrinsic+json": {
       "type": "string"
      },
      "text/plain": [
       "'33'"
      ]
     },
     "execution_count": 5,
     "metadata": {
      "tags": []
     },
     "output_type": "execute_result"
    }
   ],
   "source": [
    "%env x=33\n",
    "# export x=3 <- colab에서 작동 X\n",
    "%env x"
   ]
  },
  {
   "cell_type": "code",
   "execution_count": null,
   "metadata": {
    "colab": {
     "base_uri": "https://localhost:8080/"
    },
    "executionInfo": {
     "elapsed": 13,
     "status": "ok",
     "timestamp": 1628128199975,
     "user": {
      "displayName": "시니어",
      "photoUrl": "",
      "userId": "08171692844966868129"
     },
     "user_tz": -540
    },
    "id": "miv8AFbaqnyL",
    "outputId": "a2e488b4-ce9f-400a-f548-0d71c520de70"
   },
   "outputs": [
    {
     "name": "stdout",
     "output_type": "stream",
     "text": [
      "/content\n"
     ]
    }
   ],
   "source": [
    "%cd /content"
   ]
  },
  {
   "cell_type": "markdown",
   "metadata": {
    "id": "SRA7ljDN-sY5"
   },
   "source": [
    "참고사항.\n",
    "- 코드라인 맨 위에 %%bash 를 적으면 bash명령어를 ! 를 적지 않고 실행할 수 있다."
   ]
  },
  {
   "cell_type": "markdown",
   "metadata": {
    "id": "0z-TpEWLB1aE"
   },
   "source": [
    "### %%bash Magic\n",
    "맨 위에 %%bash 를 추가해 주면 ! 를 붙이지 않아도 해당 내용이 bash 명령어로 인식됩니다."
   ]
  },
  {
   "cell_type": "code",
   "execution_count": null,
   "metadata": {
    "colab": {
     "base_uri": "https://localhost:8080/"
    },
    "executionInfo": {
     "elapsed": 25,
     "status": "ok",
     "timestamp": 1628146752906,
     "user": {
      "displayName": "시니어",
      "photoUrl": "",
      "userId": "08171692844966868129"
     },
     "user_tz": -540
    },
    "id": "hdwTE8wI__2D",
    "outputId": "c78cf2f1-beb4-4c5d-c588-95c0aa11db2c"
   },
   "outputs": [
    {
     "name": "stdout",
     "output_type": "stream",
     "text": [
      "xx\n",
      "/content/xx\n",
      "root\n"
     ]
    }
   ],
   "source": [
    "%%bash\n",
    "ls\n",
    "pwd\n",
    "whoami"
   ]
  },
  {
   "cell_type": "markdown",
   "metadata": {},
   "source": [
    "### %%matplotlib Magic"
   ]
  },
  {
   "cell_type": "code",
   "execution_count": 2,
   "metadata": {},
   "outputs": [
    {
     "data": {
      "text/plain": [
       "<matplotlib.image.AxesImage at 0x14f9ef430>"
      ]
     },
     "execution_count": 2,
     "metadata": {},
     "output_type": "execute_result"
    },
    {
     "data": {
      "image/png": "[encoded data removed]",
      "text/plain": [
       "<Figure size 432x288 with 1 Axes>"
      ]
     },
     "metadata": {
      "needs_background": "light"
     },
     "output_type": "display_data"
    }
   ],
   "source": [
    "%matplotlib inline\n",
    "from matplotlib.pyplot import imread,imshow,subplots\n",
    "i=imread('http://finfra.com/f/f.png')\n",
    "imshow(i)"
   ]
  },
  {
   "cell_type": "markdown",
   "metadata": {
    "id": "TC7PL6X7rSvk"
   },
   "source": [
    "# Python Library 설치\n",
    "## pip 설치"
   ]
  },
  {
   "cell_type": "code",
   "execution_count": null,
   "metadata": {
    "colab": {
     "base_uri": "https://localhost:8080/"
    },
    "executionInfo": {
     "elapsed": 2652,
     "status": "ok",
     "timestamp": 1628128202621,
     "user": {
      "displayName": "시니어",
      "photoUrl": "",
      "userId": "08171692844966868129"
     },
     "user_tz": -540
    },
    "id": "Wk1FckqarMrI",
    "outputId": "fbc41ba1-63e9-41fb-8898-38cb9794277d"
   },
   "outputs": [
    {
     "name": "stdout",
     "output_type": "stream",
     "text": [
      "Requirement already satisfied: konlpy in /usr/local/lib/python3.7/dist-packages (0.5.2)\n",
      "Requirement already satisfied: lxml>=4.1.0 in /usr/local/lib/python3.7/dist-packages (from konlpy) (4.2.6)\n",
      "Requirement already satisfied: numpy>=1.6 in /usr/local/lib/python3.7/dist-packages (from konlpy) (1.19.5)\n",
      "Requirement already satisfied: JPype1>=0.7.0 in /usr/local/lib/python3.7/dist-packages (from konlpy) (1.3.0)\n",
      "Requirement already satisfied: tweepy>=3.7.0 in /usr/local/lib/python3.7/dist-packages (from konlpy) (3.10.0)\n",
      "Requirement already satisfied: colorama in /usr/local/lib/python3.7/dist-packages (from konlpy) (0.4.4)\n",
      "Requirement already satisfied: beautifulsoup4==4.6.0 in /usr/local/lib/python3.7/dist-packages (from konlpy) (4.6.0)\n",
      "Requirement already satisfied: typing-extensions in /usr/local/lib/python3.7/dist-packages (from JPype1>=0.7.0->konlpy) (3.7.4.3)\n",
      "Requirement already satisfied: requests-oauthlib>=0.7.0 in /usr/local/lib/python3.7/dist-packages (from tweepy>=3.7.0->konlpy) (1.3.0)\n",
      "Requirement already satisfied: six>=1.10.0 in /usr/local/lib/python3.7/dist-packages (from tweepy>=3.7.0->konlpy) (1.15.0)\n",
      "Requirement already satisfied: requests[socks]>=2.11.1 in /usr/local/lib/python3.7/dist-packages (from tweepy>=3.7.0->konlpy) (2.23.0)\n",
      "Requirement already satisfied: oauthlib>=3.0.0 in /usr/local/lib/python3.7/dist-packages (from requests-oauthlib>=0.7.0->tweepy>=3.7.0->konlpy) (3.1.1)\n",
      "Requirement already satisfied: certifi>=2017.4.17 in /usr/local/lib/python3.7/dist-packages (from requests[socks]>=2.11.1->tweepy>=3.7.0->konlpy) (2021.5.30)\n",
      "Requirement already satisfied: chardet<4,>=3.0.2 in /usr/local/lib/python3.7/dist-packages (from requests[socks]>=2.11.1->tweepy>=3.7.0->konlpy) (3.0.4)\n",
      "Requirement already satisfied: idna<3,>=2.5 in /usr/local/lib/python3.7/dist-packages (from requests[socks]>=2.11.1->tweepy>=3.7.0->konlpy) (2.10)\n",
      "Requirement already satisfied: urllib3!=1.25.0,!=1.25.1,<1.26,>=1.21.1 in /usr/local/lib/python3.7/dist-packages (from requests[socks]>=2.11.1->tweepy>=3.7.0->konlpy) (1.24.3)\n",
      "Requirement already satisfied: PySocks!=1.5.7,>=1.5.6 in /usr/local/lib/python3.7/dist-packages (from requests[socks]>=2.11.1->tweepy>=3.7.0->konlpy) (1.7.1)\n"
     ]
    }
   ],
   "source": [
    "!pip install konlpy"
   ]
  },
  {
   "cell_type": "code",
   "execution_count": null,
   "metadata": {
    "colab": {
     "base_uri": "https://localhost:8080/"
    },
    "executionInfo": {
     "elapsed": 20,
     "status": "ok",
     "timestamp": 1628128202622,
     "user": {
      "displayName": "시니어",
      "photoUrl": "",
      "userId": "08171692844966868129"
     },
     "user_tz": -540
    },
    "id": "RdNyxquzu7MB",
    "outputId": "49fa8a51-e12c-4187-a224-2fa3ff26e792"
   },
   "outputs": [
    {
     "data": {
      "text/plain": [
       "['__author__',\n",
       " '__builtins__',\n",
       " '__cached__',\n",
       " '__copyright__',\n",
       " '__doc__',\n",
       " '__email__',\n",
       " '__file__',\n",
       " '__license__',\n",
       " '__loader__',\n",
       " '__name__',\n",
       " '__package__',\n",
       " '__path__',\n",
       " '__spec__',\n",
       " '__summary__',\n",
       " '__title__',\n",
       " '__url__',\n",
       " '__version__',\n",
       " 'about',\n",
       " 'absolute_import',\n",
       " 'constants',\n",
       " 'corpus',\n",
       " 'data',\n",
       " 'download',\n",
       " 'downloader',\n",
       " 'init_jvm',\n",
       " 'internals',\n",
       " 'jvm',\n",
       " 'stream',\n",
       " 'tag',\n",
       " 'utils']"
      ]
     },
     "execution_count": 10,
     "metadata": {
      "tags": []
     },
     "output_type": "execute_result"
    }
   ],
   "source": [
    "import konlpy\n",
    "dir(konlpy)"
   ]
  },
  {
   "cell_type": "markdown",
   "metadata": {
    "id": "9e6D4xnxr6xQ"
   },
   "source": [
    "## apt install"
   ]
  },
  {
   "cell_type": "code",
   "execution_count": null,
   "metadata": {
    "colab": {
     "base_uri": "https://localhost:8080/"
    },
    "executionInfo": {
     "elapsed": 1723,
     "status": "ok",
     "timestamp": 1628128204331,
     "user": {
      "displayName": "시니어",
      "photoUrl": "",
      "userId": "08171692844966868129"
     },
     "user_tz": -540
    },
    "id": "_N1zTikvsaQz",
    "outputId": "5a2e7185-6f8b-4b98-f38e-154631d463d9"
   },
   "outputs": [
    {
     "name": "stdout",
     "output_type": "stream",
     "text": [
      "Reading package lists... Done\n",
      "Building dependency tree       \n",
      "Reading state information... Done\n",
      "imagemagick is already the newest version (8:6.9.7.4+dfsg-16ubuntu6.11).\n",
      "0 upgraded, 0 newly installed, 0 to remove and 40 not upgraded.\n"
     ]
    }
   ],
   "source": [
    "!apt install imagemagick"
   ]
  },
  {
   "cell_type": "code",
   "execution_count": null,
   "metadata": {
    "colab": {
     "base_uri": "https://localhost:8080/"
    },
    "executionInfo": {
     "elapsed": 8,
     "status": "ok",
     "timestamp": 1628128204332,
     "user": {
      "displayName": "시니어",
      "photoUrl": "",
      "userId": "08171692844966868129"
     },
     "user_tz": -540
    },
    "id": "I_VKOAvPtTOP",
    "outputId": "c8c81b5a-ce9b-49f7-f31c-12c21e63c497"
   },
   "outputs": [
    {
     "name": "stdout",
     "output_type": "stream",
     "text": [
      "Version: ImageMagick 6.9.7-4 Q16 x86_64 20170114 http://www.imagemagick.org\n",
      "Copyright: © 1999-2017 ImageMagick Studio LLC\n",
      "License: http://www.imagemagick.org/script/license.php\n",
      "Features: Cipher DPC Modules OpenMP \n",
      "Delegates (built-in): bzlib djvu fftw fontconfig freetype jbig jng jpeg lcms lqr ltdl lzma openexr pangocairo png tiff wmf x xml zlib\n"
     ]
    }
   ],
   "source": [
    "!convert -version"
   ]
  }
 ],
 "metadata": {
  "accelerator": "GPU",
  "colab": {
   "collapsed_sections": [],
   "name": "01.Colab.ipynb",
   "provenance": [],
   "toc_visible": true
  },
  "kernelspec": {
   "display_name": "Python 3",
   "language": "python",
   "name": "python3"
  },
  "language_info": {
   "codemirror_mode": {
    "name": "ipython",
    "version": 3
   },
   "file_extension": ".py",
   "mimetype": "text/x-python",
   "name": "python",
   "nbconvert_exporter": "python",
   "pygments_lexer": "ipython3",
   "version": "3.8.9"
  }
 },
 "nbformat": 4,
 "nbformat_minor": 4
}
