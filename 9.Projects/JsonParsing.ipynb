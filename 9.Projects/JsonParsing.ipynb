{
 "cells": [
  {
   "cell_type": "markdown",
   "metadata": {},
   "source": [
    "# Json Parsing \n",
    "* 결론 : eval()을 하면 굳이 파싱할 필요 없음."
   ]
  },
  {
   "cell_type": "code",
   "execution_count": 1,
   "metadata": {},
   "outputs": [
    {
     "name": "stdout",
     "output_type": "stream",
     "text": [
      "aaa\n"
     ]
    }
   ],
   "source": [
    "x=\"\"\"[ \n",
    "      {\"id\":1 , \"name\":\"aaa\"}, \n",
    "      {\"id\":2 , \"name\":\"bbb\"} \n",
    " ] \n",
    "\"\"\" \n",
    "xx=eval(x)\n",
    "print(xx[0]['name'])\n"
   ]
  },
  {
   "cell_type": "code",
   "execution_count": 2,
   "metadata": {},
   "outputs": [
    {
     "name": "stdout",
     "output_type": "stream",
     "text": [
      "1,aaa\n",
      "2,bbb\n"
     ]
    }
   ],
   "source": [
    "for i in xx:\n",
    "    print(\"%d,%s\"%(i[\"id\"],i[\"name\"]))\n",
    " "
   ]
  }
 ],
 "metadata": {
  "kernelspec": {
   "display_name": "Python 3",
   "language": "python",
   "name": "python3"
  },
  "language_info": {
   "codemirror_mode": {
    "name": "ipython",
    "version": 3
   },
   "file_extension": ".py",
   "mimetype": "text/x-python",
   "name": "python",
   "nbconvert_exporter": "python",
   "pygments_lexer": "ipython3",
   "version": "3.6.9"
  }
 },
 "nbformat": 4,
 "nbformat_minor": 4
}
