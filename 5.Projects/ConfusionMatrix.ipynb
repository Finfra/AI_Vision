{
 "cells": [
  {
   "cell_type": "markdown",
   "metadata": {},
   "source": [
    "# Load & Save, MSE, Confusion Matrix\n",
    "\n",
    "The code and comments are by NamJungGu <nowage@gmail.com> \n",
    "\n",
    "<a rel=\"license\" href=\"http://creativecommons.org/licenses/by-nc-sa/4.0/\"><img alt=\"Creative Commons License\" style=\"border-width:0\" src=\"https://i.creativecommons.org/l/by-nc-sa/4.0/88x31.png\" /></a><br />This work is licensed under a <a rel=\"license\" href=\"http://creativecommons.org/licenses/by-nc-sa/4.0/\">Creative Commons Attribution-NonCommercial-ShareAlike 4.0 International License</a>.\n",
    "\n",
    "\n",
    "\n",
    "\n"
   ]
  },
  {
   "cell_type": "markdown",
   "metadata": {},
   "source": [
    "## 1. Save & Load"
   ]
  },
  {
   "cell_type": "markdown",
   "metadata": {},
   "source": [
    "### Save"
   ]
  },
  {
   "cell_type": "code",
   "execution_count": 1,
   "metadata": {},
   "outputs": [
    {
     "name": "stdout",
     "output_type": "stream",
     "text": [
      "[[0.15897384]\n",
      " [0.7603704 ]\n",
      " [0.01861651]\n",
      " [0.9041312 ]\n",
      " [0.45615864]\n",
      " [0.9763112 ]\n",
      " [0.03244912]\n",
      " [0.0341315 ]\n",
      " [0.04129021]\n",
      " [0.46163   ]]\n",
      "[[0.38764724]\n",
      " [0.3890452 ]\n",
      " [0.09310095]\n",
      " [0.56653655]\n",
      " [0.041427  ]\n",
      " [0.11831714]\n",
      " [0.5225555 ]\n",
      " [0.08645362]\n",
      " [0.74824935]\n",
      " [0.63322514]]\n"
     ]
    }
   ],
   "source": [
    "import tensorflow as tf\n",
    "import numpy as np\n",
    "\n",
    "\n",
    "x=np.float32(np.random.rand(10,1))\n",
    "np.savetxt('./x.csv',x,fmt='%f',delimiter=',')\n",
    "print(x)\n",
    "y=np.float32(np.random.rand(10,1))\n",
    "np.savetxt('./y.csv',y,fmt='%f',delimiter=',')\n",
    "print(y)"
   ]
  },
  {
   "cell_type": "markdown",
   "metadata": {},
   "source": [
    "## Load"
   ]
  },
  {
   "cell_type": "code",
   "execution_count": 2,
   "metadata": {},
   "outputs": [
    {
     "data": {
      "text/plain": [
       "array([[0.15897384, 0.38764724],\n",
       "       [0.7603704 , 0.3890452 ],\n",
       "       [0.01861651, 0.09310095],\n",
       "       [0.9041312 , 0.56653655],\n",
       "       [0.45615864, 0.041427  ],\n",
       "       [0.9763112 , 0.11831714],\n",
       "       [0.03244912, 0.5225555 ],\n",
       "       [0.0341315 , 0.08645362],\n",
       "       [0.04129021, 0.74824935],\n",
       "       [0.46163   , 0.63322514]], dtype=float32)"
      ]
     },
     "execution_count": 2,
     "metadata": {},
     "output_type": "execute_result"
    }
   ],
   "source": [
    "x_load=np.loadtxt('./x.csv',delimiter=',')\n",
    "y_load=np.loadtxt('./y.csv',delimiter=',')\n",
    "arr=np.hstack([x,y])\n",
    "arr"
   ]
  },
  {
   "cell_type": "markdown",
   "metadata": {},
   "source": [
    "## 2. MSE(Mean Squared Error)"
   ]
  },
  {
   "cell_type": "code",
   "execution_count": 3,
   "metadata": {},
   "outputs": [
    {
     "data": {
      "text/plain": [
       "0.0008499999999999993"
      ]
     },
     "execution_count": 3,
     "metadata": {},
     "output_type": "execute_result"
    }
   ],
   "source": [
    "y=np.array([1.,1.,1.,1.])\n",
    "yTarget=np.array([0.8, 1.1,1.2,1.1])\n",
    "np.square( (y-yTarget)**2  ).mean()"
   ]
  },
  {
   "cell_type": "markdown",
   "metadata": {},
   "source": [
    "## 3. Confusion Matrix\n"
   ]
  },
  {
   "cell_type": "code",
   "execution_count": 4,
   "metadata": {},
   "outputs": [
    {
     "name": "stdout",
     "output_type": "stream",
     "text": [
      "[[4 2]\n",
      " [1 3]]\n"
     ]
    }
   ],
   "source": [
    "# Example of a confusion matrix in Python\n",
    "from sklearn.metrics import confusion_matrix\n",
    "import pandas as pd \n",
    "import numpy as np\n",
    "import matplotlib.pyplot as plt\n",
    "\n",
    "\n",
    "\n",
    "expected = [1, 1, 0, 1, 0, 0, 1, 0, 0, 0]\n",
    "predicted = [1, 0, 0, 1, 0, 0, 1, 1, 1, 0]\n",
    "results = confusion_matrix(expected, predicted)\n",
    "print(results)"
   ]
  },
  {
   "cell_type": "code",
   "execution_count": 5,
   "metadata": {},
   "outputs": [
    {
     "data": {
      "text/plain": [
       "<matplotlib.axes._subplots.AxesSubplot at 0x7f375bdabdd8>"
      ]
     },
     "execution_count": 5,
     "metadata": {},
     "output_type": "execute_result"
    },
    {
     "data": {
      "image/png": "[encoded data removed]",
      "text/plain": [
       "<Figure size 720x504 with 2 Axes>"
      ]
     },
     "metadata": {
      "needs_background": "light"
     },
     "output_type": "display_data"
    }
   ],
   "source": [
    "# fail나면 root계정에서  \"pip install seaborn\" 명령 실행할 것. \n",
    "\n",
    "import seaborn as sn\n",
    "\n",
    "df_cm = pd.DataFrame(results, range(2),\n",
    "                  range(2))\n",
    "plt.figure(figsize = (10,7))\n",
    "\n",
    "sn.heatmap(df_cm, annot=True)"
   ]
  }
 ],
 "metadata": {
  "kernelspec": {
   "display_name": "Python 3",
   "language": "python",
   "name": "python3"
  },
  "language_info": {
   "codemirror_mode": {
    "name": "ipython",
    "version": 3
   },
   "file_extension": ".py",
   "mimetype": "text/x-python",
   "name": "python",
   "nbconvert_exporter": "python",
   "pygments_lexer": "ipython3",
   "version": "3.6.8"
  }
 },
 "nbformat": 4,
 "nbformat_minor": 4
}
