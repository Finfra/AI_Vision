{
 "cells": [
  {
   "cell_type": "markdown",
   "metadata": {
    "colab": {
     "base_uri": "https://localhost:8080/",
     "height": 211
    },
    "colab_type": "code",
    "executionInfo": {
     "elapsed": 27852,
     "status": "ok",
     "timestamp": 1580986736767,
     "user": {
      "displayName": "남중구",
      "photoUrl": "https://lh3.googleusercontent.com/a-/AAuE7mANsdGax1sYag-zeKLjjnrw5eZy4K2ORDf-S3ybVQ=s64",
      "userId": "04014122822541888792"
     },
     "user_tz": -540
    },
    "id": "owuhgLoZHhjr",
    "outputId": "31281a4a-ae09-412a-dcf7-9d3d57555ef0"
   },
   "source": [
    "# [Github Yolo V3](https://github.com/ydixon/yolo_v3)"
   ]
  },
  {
   "cell_type": "code",
   "execution_count": 2,
   "metadata": {
    "colab": {
     "base_uri": "https://localhost:8080/",
     "height": 55
    },
    "colab_type": "code",
    "executionInfo": {
     "elapsed": 748,
     "status": "ok",
     "timestamp": 1580986602500,
     "user": {
      "displayName": "남중구",
      "photoUrl": "https://lh3.googleusercontent.com/a-/AAuE7mANsdGax1sYag-zeKLjjnrw5eZy4K2ORDf-S3ybVQ=s64",
      "userId": "04014122822541888792"
     },
     "user_tz": -540
    },
    "id": "Fibp8e9QJOPw",
    "outputId": "2843821e-5671-4b96-d9a8-4669cac826f0"
   },
   "outputs": [
    {
     "name": "stdout",
     "output_type": "stream",
     "text": [
      "'yolo_v3'에 복제합니다...\n",
      "remote: Enumerating objects: 62, done.\u001b[K\n",
      "remote: Counting objects: 100% (62/62), done.\u001b[K\n",
      "remote: Compressing objects: 100% (41/41), done.\u001b[K\n",
      "remote: Total 1004 (delta 27), reused 39 (delta 20), pack-reused 942\u001b[K\n",
      "오브젝트를 받는 중: 100% (1004/1004), 355.34 MiB | 19.36 MiB/s, 완료.\n",
      "델타를 알아내는 중: 100% (171/171), 완료.\n",
      "/prj/nowage/jprj/Examples/yolo_v3\n"
     ]
    }
   ],
   "source": [
    "!git clone https://github.com/ydixon/yolo_v3\n",
    "%cd yolo_v3    "
   ]
  },
  {
   "cell_type": "code",
   "execution_count": 3,
   "metadata": {
    "colab": {},
    "colab_type": "code",
    "id": "nPeRCfiBJQZ3"
   },
   "outputs": [
    {
     "name": "stdout",
     "output_type": "stream",
     "text": [
      "--2020-02-07 02:39:46--  https://pjreddie.com/media/files/yolov3.weights\n",
      "Resolving pjreddie.com (pjreddie.com)... 128.208.4.108\n",
      "접속 pjreddie.com (pjreddie.com)|128.208.4.108|:443... 접속됨.\n",
      "HTTP request sent, awaiting response... 200 OK\n",
      "Length: 248007048 (237M) [application/octet-stream]\n",
      "Saving to: ‘yolov3.weights’\n",
      "\n",
      "yolov3.weights      100%[===================>] 236.52M  5.14MB/s    in 68s     \n",
      "\n",
      "2020-02-07 02:40:55 (3.47 MB/s) - ‘yolov3.weights’ saved [248007048/248007048]\n",
      "\n"
     ]
    }
   ],
   "source": [
    "!wget https://pjreddie.com/media/files/yolov3.weights"
   ]
  },
  {
   "cell_type": "code",
   "execution_count": 4,
   "metadata": {},
   "outputs": [
    {
     "name": "stdout",
     "output_type": "stream",
     "text": [
      "--2020-02-07 02:40:55--  https://pjreddie.com/media/files/darknet53.conv.74\n",
      "Resolving pjreddie.com (pjreddie.com)... 128.208.4.108\n",
      "접속 pjreddie.com (pjreddie.com)|128.208.4.108|:443... 접속됨.\n",
      "HTTP request sent, awaiting response... 200 OK\n",
      "Length: 162482580 (155M) [application/octet-stream]\n",
      "Saving to: ‘darknet53.conv.74’\n",
      "\n",
      "darknet53.conv.74   100%[===================>] 154.96M  5.14MB/s    in 30s     \n",
      "\n",
      "2020-02-07 02:41:26 (5.20 MB/s) - ‘darknet53.conv.74’ saved [162482580/162482580]\n",
      "\n"
     ]
    }
   ],
   "source": [
    "!wget https://pjreddie.com/media/files/darknet53.conv.74"
   ]
  },
  {
   "cell_type": "markdown",
   "metadata": {},
   "source": [
    "## COCO_ydixon\n",
    "```\n",
    "%cd weights/COCO_ydixon\n",
    "```\n",
    "* Download weights from https://drive.google.com/drive/folders/1HPxEA7kyJxLTu0mWYu5Vlcz57NcuD2U3?usp=sharing\n",
    "\n",
    "* 내드라이브에 추가후 복사\n",
    "\n",
    "\n"
   ]
  },
  {
   "cell_type": "code",
   "execution_count": null,
   "metadata": {},
   "outputs": [],
   "source": [
    "%cd data\n",
    "!bash get_coco_dataset.sh\n"
   ]
  },
  {
   "cell_type": "markdown",
   "metadata": {},
   "source": [
    "# 실행\n",
    "- yolo_detect.ipynb\n",
    "- yolo_train_short.ipynb\n",
    "- yolo_train.ipynb"
   ]
  },
  {
   "cell_type": "code",
   "execution_count": null,
   "metadata": {},
   "outputs": [],
   "source": []
  }
 ],
 "metadata": {
  "accelerator": "GPU",
  "colab": {
   "authorship_tag": "ABX9TyP+N7MNqMaeaCkK5B3hq247",
   "collapsed_sections": [],
   "name": "Yolo3.ipynb",
   "provenance": []
  },
  "kernelspec": {
   "display_name": "Python 3",
   "language": "python",
   "name": "python3"
  },
  "language_info": {
   "codemirror_mode": {
    "name": "ipython",
    "version": 3
   },
   "file_extension": ".py",
   "mimetype": "text/x-python",
   "name": "python",
   "nbconvert_exporter": "python",
   "pygments_lexer": "ipython3",
   "version": "3.6.9"
  }
 },
 "nbformat": 4,
 "nbformat_minor": 1
}
