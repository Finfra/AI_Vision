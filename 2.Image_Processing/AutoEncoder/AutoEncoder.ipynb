{
 "cells": [
  {
   "cell_type": "markdown",
   "metadata": {},
   "source": [
    "# Building Autoencoders in Keras\n",
    "* Source : https://blog.keras.io/building-autoencoders-in-keras.html\n",
    "\n"
   ]
  },
  {
   "cell_type": "markdown",
   "metadata": {},
   "source": [
    "![-](https://blog.keras.io/img/ae/autoencoder_schema.jpg)\n",
    "\n",
    "## 자기 자신을 학습한다.\n",
    "즉, 입력데이터와 레이블이 같다. \n"
   ]
  },
  {
   "cell_type": "markdown",
   "metadata": {},
   "source": [
    "아래에 결과가 있습니다. 위의 줄은 원래의 숫자이고 아랫 줄은 재구성된 숫자입니다. 지금 사용한 간단한 접근 방법으로 꽤 많은 비트 손실이 있었다는 것을 알 수 있습니다.\n",
    "\n",
    "\n",
    "\n",
    "Adding a sparsity constraint on the encoded representations\n",
    "\n",
    "이전 예제에서, 표현(representation)은 은닉층의 크기(32)에만 제약을 받았습니다. 이러한 상황에서, 전형적으로 발생하는 일은 은닉층이 PCA(principal component analysis)의 근사값을 학습한다는 것입니다. 표현을 더 간결하게 제한하는 다른 방법은 숨겨진 표현의 활동에 sparsity를 부여하는 것입니다. 이는 주어진 시간에 더 적은 유닛이 “실행”될 수 있도록 합니다. Keras에서는 activity_regularizer를 Dense layer에 추가하여 수행할 수 있습니다."
   ]
  },
  {
   "cell_type": "code",
   "execution_count": 1,
   "metadata": {},
   "outputs": [],
   "source": [
    "%matplotlib notebook\n",
    "from tensorflow.keras.layers import Input, Dense, Dropout\n",
    "from tensorflow.keras.models import Model\n",
    "from tensorflow.keras import optimizers\n"
   ]
  },
  {
   "cell_type": "code",
   "execution_count": 2,
   "metadata": {},
   "outputs": [],
   "source": [
    "# this is our input placeholder\n",
    "x = Input(shape=(784,))\n",
    "# \"encoded\" is the encoded representation of the input\n",
    "x1 = Dense(400, activation='relu')(x)\n",
    "z = Dense(32, activation='relu')(x1)\n",
    "# \"decoded\" is the lossy reconstruction of the input\n",
    "y1 = Dense(256, activation='relu')(z)\n",
    "y = Dense(784, activation='sigmoid')(y1)\n",
    "\n",
    "\n",
    "\n",
    "# this model maps an input to its reconstruction\n",
    "autoencoder = Model(x, y)"
   ]
  },
  {
   "cell_type": "code",
   "execution_count": 3,
   "metadata": {},
   "outputs": [],
   "source": [
    "# this model maps an input to its encoded representation\n",
    "encoder = Model(x, z)\n",
    "\n",
    "\n",
    "# create a placeholder for an encoded (32-dimensional) input\n",
    "z = Input(shape=(32,))\n",
    "# retrieve the last layer of the autoencoder model\n",
    "y1 = autoencoder.layers[-2](z)\n",
    "y  = autoencoder.layers[-1](y1)\n",
    "# create the decoder model\n",
    "decoder = Model(z, y)"
   ]
  },
  {
   "cell_type": "code",
   "execution_count": 4,
   "metadata": {},
   "outputs": [],
   "source": [
    "opt=optimizers.RMSprop(lr=0.02, rho=0.9, epsilon=None, decay=0.0)\n",
    "autoencoder.compile(optimizer=opt, loss='binary_crossentropy',metrics=['accuracy'],)"
   ]
  },
  {
   "cell_type": "code",
   "execution_count": 5,
   "metadata": {},
   "outputs": [
    {
     "name": "stdout",
     "output_type": "stream",
     "text": [
      "Downloading data from https://storage.googleapis.com/tensorflow/tf-keras-datasets/mnist.npz\n",
      "11493376/11490434 [==============================] - 1s 0us/step\n",
      "(60000, 784)\n",
      "(10000, 784)\n"
     ]
    }
   ],
   "source": [
    "from tensorflow.python.keras.datasets import mnist\n",
    "import numpy as np\n",
    "(x_train, _), (x_test, _) = mnist.load_data()\n",
    "\n",
    "x_train = x_train.astype('float32') / 255.\n",
    "x_test = x_test.astype('float32') / 255.\n",
    "x_train = x_train.reshape(x_train.shape[0], -1)\n",
    "x_test = x_test.reshape(x_test.shape[0], -1)\n",
    "print( x_train.shape)\n",
    "print( x_test.shape)"
   ]
  },
  {
   "cell_type": "code",
   "execution_count": 6,
   "metadata": {},
   "outputs": [
    {
     "name": "stdout",
     "output_type": "stream",
     "text": [
      "Epoch 1/50\n",
      "235/235 - 9s - loss: 0.4003 - accuracy: 0.0109 - val_loss: 0.1710 - val_accuracy: 0.0097\n",
      "Epoch 2/50\n",
      "235/235 - 9s - loss: 0.1591 - accuracy: 0.0117 - val_loss: 0.1576 - val_accuracy: 0.0105\n",
      "Epoch 3/50\n",
      "235/235 - 9s - loss: 0.1521 - accuracy: 0.0126 - val_loss: 0.1531 - val_accuracy: 0.0152\n",
      "Epoch 4/50\n",
      "235/235 - 10s - loss: 0.1495 - accuracy: 0.0126 - val_loss: 0.1555 - val_accuracy: 0.0146\n",
      "Epoch 5/50\n",
      "235/235 - 10s - loss: 0.1479 - accuracy: 0.0126 - val_loss: 0.1523 - val_accuracy: 0.0109\n",
      "Epoch 6/50\n",
      "235/235 - 9s - loss: 0.1471 - accuracy: 0.0121 - val_loss: 0.1483 - val_accuracy: 0.0127\n",
      "Epoch 7/50\n",
      "235/235 - 10s - loss: 0.1465 - accuracy: 0.0123 - val_loss: 0.1486 - val_accuracy: 0.0133\n",
      "Epoch 8/50\n",
      "235/235 - 9s - loss: 0.1461 - accuracy: 0.0121 - val_loss: 0.1527 - val_accuracy: 0.0111\n",
      "Epoch 9/50\n",
      "235/235 - 9s - loss: 0.1456 - accuracy: 0.0128 - val_loss: 0.1523 - val_accuracy: 0.0134\n",
      "Epoch 10/50\n",
      "235/235 - 10s - loss: 0.1452 - accuracy: 0.0129 - val_loss: 0.1523 - val_accuracy: 0.0093\n",
      "Epoch 11/50\n",
      "235/235 - 10s - loss: 0.1449 - accuracy: 0.0120 - val_loss: 0.1507 - val_accuracy: 0.0133\n",
      "Epoch 12/50\n",
      "235/235 - 9s - loss: 0.1449 - accuracy: 0.0113 - val_loss: 0.1487 - val_accuracy: 0.0134\n",
      "Epoch 13/50\n",
      "235/235 - 9s - loss: 0.1444 - accuracy: 0.0111 - val_loss: 0.1464 - val_accuracy: 0.0116\n",
      "Epoch 14/50\n",
      "235/235 - 9s - loss: 0.1444 - accuracy: 0.0123 - val_loss: 0.1474 - val_accuracy: 0.0099\n",
      "Epoch 15/50\n",
      "235/235 - 10s - loss: 0.1443 - accuracy: 0.0117 - val_loss: 0.1483 - val_accuracy: 0.0138\n",
      "Epoch 16/50\n",
      "235/235 - 9s - loss: 0.1442 - accuracy: 0.0112 - val_loss: 0.1485 - val_accuracy: 0.0121\n",
      "Epoch 17/50\n",
      "235/235 - 9s - loss: 0.1441 - accuracy: 0.0129 - val_loss: 0.1486 - val_accuracy: 0.0107\n",
      "Epoch 18/50\n",
      "235/235 - 9s - loss: 0.1442 - accuracy: 0.0125 - val_loss: 0.1572 - val_accuracy: 0.0110\n",
      "Epoch 19/50\n",
      "235/235 - 9s - loss: 0.1441 - accuracy: 0.0122 - val_loss: 0.1464 - val_accuracy: 0.0102\n",
      "Epoch 20/50\n",
      "235/235 - 9s - loss: 0.1440 - accuracy: 0.0127 - val_loss: 0.1496 - val_accuracy: 0.0131\n",
      "Epoch 21/50\n",
      "235/235 - 9s - loss: 0.1438 - accuracy: 0.0130 - val_loss: 0.1452 - val_accuracy: 0.0110\n",
      "Epoch 22/50\n",
      "235/235 - 9s - loss: 0.1440 - accuracy: 0.0131 - val_loss: 0.1424 - val_accuracy: 0.0107\n",
      "Epoch 23/50\n",
      "235/235 - 9s - loss: 0.1441 - accuracy: 0.0126 - val_loss: 0.1469 - val_accuracy: 0.0122\n",
      "Epoch 24/50\n",
      "235/235 - 9s - loss: 0.1438 - accuracy: 0.0114 - val_loss: 0.1496 - val_accuracy: 0.0108\n",
      "Epoch 25/50\n",
      "235/235 - 9s - loss: 0.1439 - accuracy: 0.0125 - val_loss: 0.1487 - val_accuracy: 0.0114\n",
      "Epoch 26/50\n",
      "235/235 - 9s - loss: 0.1440 - accuracy: 0.0122 - val_loss: 0.1455 - val_accuracy: 0.0110\n",
      "Epoch 27/50\n",
      "235/235 - 9s - loss: 0.1439 - accuracy: 0.0122 - val_loss: 0.1493 - val_accuracy: 0.0116\n",
      "Epoch 28/50\n",
      "235/235 - 9s - loss: 0.1439 - accuracy: 0.0121 - val_loss: 0.1490 - val_accuracy: 0.0110\n",
      "Epoch 29/50\n",
      "235/235 - 9s - loss: 0.1437 - accuracy: 0.0122 - val_loss: 0.1491 - val_accuracy: 0.0109\n",
      "Epoch 30/50\n",
      "235/235 - 9s - loss: 0.1440 - accuracy: 0.0116 - val_loss: 0.1451 - val_accuracy: 0.0115\n",
      "Epoch 31/50\n",
      "235/235 - 10s - loss: 0.1439 - accuracy: 0.0116 - val_loss: 0.1476 - val_accuracy: 0.0118\n",
      "Epoch 32/50\n",
      "235/235 - 9s - loss: 0.1440 - accuracy: 0.0122 - val_loss: 0.1458 - val_accuracy: 0.0128\n",
      "Epoch 33/50\n",
      "235/235 - 9s - loss: 0.1441 - accuracy: 0.0122 - val_loss: 0.1434 - val_accuracy: 0.0117\n",
      "Epoch 34/50\n",
      "235/235 - 10s - loss: 0.1438 - accuracy: 0.0126 - val_loss: 0.1502 - val_accuracy: 0.0089\n",
      "Epoch 35/50\n",
      "235/235 - 9s - loss: 0.1441 - accuracy: 0.0132 - val_loss: 0.1466 - val_accuracy: 0.0130\n",
      "Epoch 36/50\n",
      "235/235 - 10s - loss: 0.1438 - accuracy: 0.0126 - val_loss: 0.1442 - val_accuracy: 0.0106\n",
      "Epoch 37/50\n",
      "235/235 - 10s - loss: 0.1441 - accuracy: 0.0115 - val_loss: 0.1459 - val_accuracy: 0.0112\n",
      "Epoch 38/50\n",
      "235/235 - 10s - loss: 0.1438 - accuracy: 0.0125 - val_loss: 0.1526 - val_accuracy: 0.0109\n",
      "Epoch 39/50\n",
      "235/235 - 9s - loss: 0.1439 - accuracy: 0.0121 - val_loss: 0.1464 - val_accuracy: 0.0118\n",
      "Epoch 40/50\n",
      "235/235 - 10s - loss: 0.1439 - accuracy: 0.0126 - val_loss: 0.1476 - val_accuracy: 0.0129\n",
      "Epoch 41/50\n",
      "235/235 - 9s - loss: 0.1440 - accuracy: 0.0126 - val_loss: 0.1471 - val_accuracy: 0.0140\n",
      "Epoch 42/50\n",
      "235/235 - 10s - loss: 0.1440 - accuracy: 0.0134 - val_loss: 0.1497 - val_accuracy: 0.0144\n",
      "Epoch 43/50\n",
      "235/235 - 10s - loss: 0.1444 - accuracy: 0.0122 - val_loss: 0.1445 - val_accuracy: 0.0154\n",
      "Epoch 44/50\n",
      "235/235 - 9s - loss: 0.1441 - accuracy: 0.0116 - val_loss: 0.1439 - val_accuracy: 0.0124\n",
      "Epoch 45/50\n",
      "235/235 - 9s - loss: 0.1441 - accuracy: 0.0119 - val_loss: 0.1438 - val_accuracy: 0.0132\n",
      "Epoch 46/50\n",
      "235/235 - 10s - loss: 0.1439 - accuracy: 0.0114 - val_loss: 0.1469 - val_accuracy: 0.0109\n",
      "Epoch 47/50\n",
      "235/235 - 10s - loss: 0.1440 - accuracy: 0.0120 - val_loss: 0.1464 - val_accuracy: 0.0120\n",
      "Epoch 48/50\n",
      "235/235 - 10s - loss: 0.1440 - accuracy: 0.0131 - val_loss: 0.1431 - val_accuracy: 0.0130\n",
      "Epoch 49/50\n",
      "235/235 - 10s - loss: 0.1438 - accuracy: 0.0122 - val_loss: 0.1450 - val_accuracy: 0.0113\n",
      "Epoch 50/50\n",
      "235/235 - 9s - loss: 0.1440 - accuracy: 0.0122 - val_loss: 0.1469 - val_accuracy: 0.0139\n"
     ]
    },
    {
     "data": {
      "text/plain": [
       "<tensorflow.python.keras.callbacks.History at 0x7f936ffdc2b0>"
      ]
     },
     "execution_count": 6,
     "metadata": {},
     "output_type": "execute_result"
    }
   ],
   "source": [
    "autoencoder.fit(x_train, x_train,\n",
    "                epochs=50,\n",
    "                batch_size=256,\n",
    "                shuffle=True,\n",
    "                validation_data=(x_test, x_test),verbose=2)"
   ]
  },
  {
   "cell_type": "code",
   "execution_count": 8,
   "metadata": {},
   "outputs": [
    {
     "data": {
      "image/png": "[encoded data removed]",
      "text/plain": [
       "<Figure size 1440x288 with 20 Axes>"
      ]
     },
     "metadata": {
      "needs_background": "light"
     },
     "output_type": "display_data"
    }
   ],
   "source": [
    "%matplotlib inline\n",
    "import matplotlib.pyplot as plt \n",
    "\n",
    "# encode and decode some digits\n",
    "# note that we take them from the *test* set\n",
    "z = encoder.predict(x_test,  batch_size=10)\n",
    "y = decoder.predict(z)\n",
    "\n",
    "\n",
    "# use Matplotlib (don't ask)\n",
    "import matplotlib.pyplot as plt\n",
    "\n",
    "n = 10  # how many digits we will display\n",
    "plt.figure(figsize=(20, 4))\n",
    "for i in range(n):\n",
    "    # display original\n",
    "    ax = plt.subplot(2, n, i + 1)\n",
    "    plt.imshow(x_test[i].reshape(28, 28))\n",
    "    plt.gray()\n",
    "    ax.get_xaxis().set_visible(False)\n",
    "    ax.get_yaxis().set_visible(False)\n",
    "\n",
    "    # display reconstruction\n",
    "    ax = plt.subplot(2, n, i + 1 + n)\n",
    "    plt.imshow(y[i].reshape(28, 28))\n",
    "    plt.gray()\n",
    "    ax.get_xaxis().set_visible(False)\n",
    "    ax.get_yaxis().set_visible(False)\n",
    "plt.show()"
   ]
  }
 ],
 "metadata": {
  "kernelspec": {
   "display_name": "Python 3",
   "language": "python",
   "name": "python3"
  },
  "language_info": {
   "codemirror_mode": {
    "name": "ipython",
    "version": 3
   },
   "file_extension": ".py",
   "mimetype": "text/x-python",
   "name": "python",
   "nbconvert_exporter": "python",
   "pygments_lexer": "ipython3",
   "version": "3.6.9"
  }
 },
 "nbformat": 4,
 "nbformat_minor": 4
}
